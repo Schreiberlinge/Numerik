{
 "cells": [
  {
   "cell_type": "markdown",
   "metadata": {
    "extensions": {
     "jupyter_dashboards": {
      "version": 1,
      "views": {
       "grid_default": {
        "col": 0,
        "height": 41,
        "hidden": false,
        "row": 0,
        "width": null
       },
       "report_default": {}
      }
     }
    }
   },
   "source": [
    "# Methode von Euler\n",
    "\n",
    "Bei der Methode von Euler handelt es sich um ein nummerisches Lösungverfahren von Differenzialgleichungen. Es ist eins der leichtesten Verfahren. Jedoch mit weniger genauen ergebnisen\n",
    "\n",
    "------\n",
    "## Verfahren\n",
    "\n",
    "### Gegeben\n",
    "\n",
    "Beim Eulerverfahren (explicit) werden explicite gewöhnliche DGL über Näherung gelöst. Dabei handelt es sich um ein Rekusives verfahren. Es muss immer eine Differentialgleichung der Form:\n",
    "\n",
    "$y^{'}=f(x, y) \\quad \\textrm{mit} \\quad f(x,y) = a(x) \\cdot y(x) \\quad \\textrm{wobei a(x) ein Produkt von polynomen ist}$\n",
    "\n",
    "gegeben sein. Weiterhin wird ein Startwert benötigt\n",
    "\n",
    "$f(x_{0})=y_{0}$ \n",
    "\n",
    "Zuletzt wird eine Schrittweite benötigt. Diese Schrittweite sagt aus, in welchen Schritten sich der Algrotihmus der Lösung nähren soll. Dabei sei definiert:\n",
    "\n",
    "$h = \\frac{b-a}{N}$\n",
    "\n",
    "### Gesucht\n",
    "\n",
    "Der Algorithmus stellt eine Wertetabelle auf. Die Wertetabelle ist dabei \n",
    "\n",
    "|   x   |  y  |\n",
    "|:-----:|:---:|\n",
    "| x0    | y0  |\n",
    "| x0+h  | ?   |\n",
    "| x0+2h | ??  |\n",
    "|  ...  | ... |\n",
    "\n",
    "Ziel des Algorihmus ist es die y-Spalte dieser Wertetabelle herrauszufinden. Mathematisch gesehen enthält die Tabelle folgende Funktion: \n",
    "\n",
    "$y(x) \\quad \\textrm{fuer die gilt} \\quad x \\geq x_{0}$\n",
    "\n",
    "### Vorgehen\n",
    "\n",
    "$y^{'}$ beschreibt die Entwicklung der gesuchten Funktion. Für sehr kleine Abschnitte kann der Funktionswert durch die Entwicklung angenährt werden. Die Methode von Euler nützt dies aus, um den nächst möglichen Wert an der Stelle $x_{0}+h$ zu bestimmen.\n",
    "Der Funktionswert an der der Stelle $x_{0}+h$ entspricht dabei den zuvor erreichten Wert $y_{0}$ plus die Entwicklung über den Abschnitt $h$. Allgemein lässt sich sagen:\n",
    "\n",
    "$y_{x_{0}+h} = y_{0} + h \\cdot f(x_{0}, y_{0})$\n",
    "\n",
    "![alt text](http://jmahaffy.sdsu.edu/courses/f00/math122/lectures/num_method_diff_equations/images/euler_ani.gif)\n",
    "\n",
    "------\n",
    "## Algorithmus\n",
    "\n",
    "### Eingabe\n",
    "\n",
    "* Die Funktion $f(x, y)$ (f)\n",
    "* Ender der Interfallsgrenze (e)\n",
    "* Die Anzahl der Schrittweite (h)\n",
    "* Den Startpunkt $f(x_{0})=y_{0}$ (s)\n",
    "\n",
    "### Ausgabe \n",
    "\n",
    "Die Wertetablle in Form einer Liste, welche die Punkte der Funktion $f(x) \\quad \\textrm{fuer die gilt} \\quad x \\geq x_{0}$ enthält."
   ]
  },
  {
   "cell_type": "code",
   "execution_count": 8,
   "metadata": {
    "collapsed": false,
    "extensions": {
     "jupyter_dashboards": {
      "version": 1,
      "views": {
       "grid_default": {
        "col": 0,
        "height": 4,
        "hidden": false,
        "row": 41,
        "width": 4
       },
       "report_default": {}
      }
     }
    }
   },
   "outputs": [
    {
     "data": {
      "text/plain": [
       "defined \u001b[32mfunction \u001b[36meuler\u001b[0m"
      ]
     },
     "metadata": {},
     "output_type": "display_data"
    }
   ],
   "source": [
    "def euler(f : (Double, Double) => Double, e : Double, h : Double = 1, s : (Double, Double)) : List[(Double, Double)] = {\n",
    "    //result table\n",
    "    var t = List(s)\n",
    "    //running x and y\n",
    "    var x : Double = s._1\n",
    "    var y : Double = s._2\n",
    "    \n",
    "    while(x < e){\n",
    "        y = y + h * f(x, y)\n",
    "        x = x+h\n",
    "        t = (x,y)::t\n",
    "    }\n",
    "    //Result Table\n",
    "    t\n",
    "}"
   ]
  },
  {
   "cell_type": "markdown",
   "metadata": {},
   "source": [
    "---\n",
    "## Probleme des Verfahrens\n",
    "\n",
    "### Zu großes h\n",
    "\n",
    "Wenn die Schrittweite h zu groß gewählt sind finden zu große Sprünge statt. Dies resultiert in sehr ungenaue Ergebnisse\n",
    "\n",
    "### Zu kleines h\n",
    "\n",
    "Bei einem zu klein gewähltes h (also h läuft gegen 0), findet ein underflow statt. Hierdurch bleibt der Algorithmus auf seinen initialwert $y_{0}$ stehen. Es gilt:\n",
    "\n",
    "$\\lim_{h \\rightarrow 0} euler(...) = y_{0}$"
   ]
  },
  {
   "cell_type": "markdown",
   "metadata": {},
   "source": [
    "---\n",
    "## Beispiele"
   ]
  },
  {
   "cell_type": "code",
   "execution_count": 8,
   "metadata": {
    "collapsed": false,
    "extensions": {
     "jupyter_dashboards": {
      "version": 1,
      "views": {
       "grid_default": {
        "col": 4,
        "height": 5,
        "hidden": false,
        "row": 51,
        "width": 4
       },
       "report_default": {}
      }
     }
    },
    "scrolled": true
   },
   "outputs": [
    {
     "ename": "",
     "evalue": "",
     "output_type": "error",
     "traceback": [
      "\u001b[31mMain.scala:23: not found: value $ivy",
      "              import $ivy.`org.vegas-viz::vegas:0.3.8` ; import vegas._ ; import vegas.render.WindowRenderer._",
      "                     ^\u001b[0m",
      "\u001b[31mMain.scala:23: not found: value vegas",
      "              import $ivy.`org.vegas-viz::vegas:0.3.8` ; import vegas._ ; import vegas.render.WindowRenderer._",
      "                                                                ^\u001b[0m",
      "\u001b[31mMain.scala:23: not found: value vegas",
      "              import $ivy.`org.vegas-viz::vegas:0.3.8` ; import vegas._ ; import vegas.render.WindowRenderer._",
      "                                                                                 ^\u001b[0m"
     ]
    }
   ],
   "source": [
    "import $ivy.`org.vegas-viz::vegas:0.3.8`\n",
    "import vegas._\n",
    "import vegas.render.WindowRenderer._"
   ]
  },
  {
   "cell_type": "markdown",
   "metadata": {
    "extensions": {
     "jupyter_dashboards": {
      "version": 1,
      "views": {
       "grid_default": {
        "col": 4,
        "height": 10,
        "hidden": false,
        "row": 41,
        "width": null
       },
       "report_default": {}
      }
     }
    }
   },
   "source": [
    "### Beispiel 1\n",
    "\n",
    "#### Gegeben: \n",
    "\n",
    " * $y^{'}=x^{3}-\\frac{sin(y)}{x^{2}}$\n",
    " * $y(x_{0}) = 3 \\quad \\textrm{mit} \\quad x_{0} = 2$\n",
    " \n",
    "#### Gesucht: \n",
    "\n",
    "* $f(x) \\quad \\textrm{fuer die gilt} \\quad x \\geq 2$\n",
    "\n",
    "#### Lösung\n"
   ]
  },
  {
   "cell_type": "code",
   "execution_count": 9,
   "metadata": {
    "collapsed": false,
    "extensions": {
     "jupyter_dashboards": {
      "version": 1,
      "views": {
       "grid_default": {
        "col": 0,
        "height": 4,
        "hidden": false,
        "row": 45,
        "width": 4
       },
       "report_default": {}
      }
     }
    }
   },
   "outputs": [
    {
     "data": {
      "text/plain": [
       "defined \u001b[32mfunction \u001b[36mf1\u001b[0m"
      ]
     },
     "metadata": {},
     "output_type": "display_data"
    }
   ],
   "source": [
    "def f1(x : Double, y : Double) = {\n",
    "    import java.lang.Math\n",
    "    (x*x*x)-(Math.sin(y)/(x*x))\n",
    "}"
   ]
  },
  {
   "cell_type": "code",
   "execution_count": 10,
   "metadata": {
    "collapsed": false,
    "extensions": {
     "jupyter_dashboards": {
      "version": 1,
      "views": {
       "grid_default": {
        "col": 0,
        "height": 15,
        "hidden": false,
        "row": 49,
        "width": 4
       },
       "report_default": {}
      }
     }
    }
   },
   "outputs": [
    {
     "data": {
      "text/plain": [
       "\u001b[36mtable1\u001b[0m: \u001b[32mList\u001b[0m[(\u001b[32mDouble\u001b[0m, \u001b[32mDouble\u001b[0m)] = \u001b[33mList\u001b[0m(\n",
       "  \u001b[33m\u001b[0m(\u001b[32m600.0000000000679\u001b[0m, \u001b[32m3.2389200899456642E10\u001b[0m),\n",
       "  \u001b[33m\u001b[0m(\u001b[32m599.9000000000678\u001b[0m, \u001b[32m3.2367611697656734E10\u001b[0m),\n",
       "  \u001b[33m\u001b[0m(\u001b[32m599.8000000000678\u001b[0m, \u001b[32m3.2346033290457527E10\u001b[0m),\n",
       "  \u001b[33m\u001b[0m(\u001b[32m599.7000000000678\u001b[0m, \u001b[32m3.232446567426022E10\u001b[0m),\n",
       "  \u001b[33m\u001b[0m(\u001b[32m599.6000000000678\u001b[0m, \u001b[32m3.2302908845466614E10\u001b[0m),\n",
       "  \u001b[33m\u001b[0m(\u001b[32m599.5000000000678\u001b[0m, \u001b[32m3.2281362800479107E10\u001b[0m),\n",
       "  \u001b[33m\u001b[0m(\u001b[32m599.4000000000677\u001b[0m, \u001b[32m3.22598275357007E10\u001b[0m),\n",
       "  \u001b[33m\u001b[0m(\u001b[32m599.3000000000677\u001b[0m, \u001b[32m3.2238303047534992E10\u001b[0m),\n",
       "  \u001b[33m\u001b[0m(\u001b[32m599.2000000000677\u001b[0m, \u001b[32m3.2216789332386185E10\u001b[0m),\n",
       "  \u001b[33m\u001b[0m(\u001b[32m599.1000000000677\u001b[0m, \u001b[32m3.2195286386659077E10\u001b[0m),\n",
       "  \u001b[33m\u001b[0m(\u001b[32m599.0000000000676\u001b[0m, \u001b[32m3.217379420675907E10\u001b[0m),\n",
       "  \u001b[33m\u001b[0m(\u001b[32m598.9000000000676\u001b[0m, \u001b[32m3.2152312789092163E10\u001b[0m),\n",
       "  \u001b[33m\u001b[0m(\u001b[32m598.8000000000676\u001b[0m, \u001b[32m3.2130842130064957E10\u001b[0m),\n",
       "  \u001b[33m\u001b[0m(\u001b[32m598.7000000000676\u001b[0m, \u001b[32m3.210938222608465E10\u001b[0m),\n",
       "  \u001b[33m\u001b[0m(\u001b[32m598.6000000000676\u001b[0m, \u001b[32m3.208793307355904E10\u001b[0m),\n",
       "  \u001b[33m\u001b[0m(\u001b[32m598.5000000000675\u001b[0m, \u001b[32m3.2066494668896534E10\u001b[0m),\n",
       "  \u001b[33m\u001b[0m(\u001b[32m598.4000000000675\u001b[0m, \u001b[32m3.2045067008506126E10\u001b[0m),\n",
       "  \u001b[33m\u001b[0m(\u001b[32m598.3000000000675\u001b[0m, \u001b[32m3.202365008879742E10\u001b[0m),\n",
       "  \u001b[33m\u001b[0m(\u001b[32m598.2000000000675\u001b[0m, \u001b[32m3.2002243906180614E10\u001b[0m),\n",
       "\u001b[33m...\u001b[0m"
      ]
     },
     "metadata": {},
     "output_type": "display_data"
    }
   ],
   "source": [
    "val table1 = euler(f = f1, e = 600, s = (2,3), h = 0.1)"
   ]
  },
  {
   "cell_type": "code",
   "execution_count": 10,
   "metadata": {
    "collapsed": false,
    "extensions": {
     "jupyter_dashboards": {
      "version": 1,
      "views": {
       "grid_default": {
        "hidden": true
       },
       "report_default": {}
      }
     }
    }
   },
   "outputs": [
    {
     "ename": "",
     "evalue": "",
     "output_type": "error",
     "traceback": [
      "\u001b[31mMain.scala:25: not found: value Vegas",
      "Vegas(\"HEUN-DGL\")",
      "^\u001b[0m",
      "\u001b[31mMain.scala:27: not found: value Quant",
      "    .encodeX(\"x\", Quant)",
      "                  ^\u001b[0m",
      "\u001b[31mMain.scala:28: not found: value Quant",
      "    .encodeY(\"y\", Quant) ",
      "                  ^\u001b[0m"
     ]
    }
   ],
   "source": [
    "val plot1 = Vegas(\"HEUN-DGL\")\n",
    "    .withData(table1.map(t => Map(\"x\" -> t._1, \"y\" -> t._2)))\n",
    "    .encodeX(\"x\", Quant)\n",
    "    .encodeY(\"y\", Quant)"
   ]
  },
  {
   "cell_type": "code",
   "execution_count": 11,
   "metadata": {
    "collapsed": false
   },
   "outputs": [
    {
     "name": "stdout",
     "output_type": "stream",
     "text": [
      "x=2.0 y=3.0\n",
      "x=2.1 y=3.7964719997985035\n",
      "x=2.2 y=4.736382964756703\n",
      "x=2.3000000000000003 y=5.821838174636184\n",
      "x=2.4000000000000004 y=7.046953199310089\n",
      "x=2.5000000000000004 y=8.417345427569774\n",
      "x=2.6000000000000005 y=9.966318011245523\n",
      "x=2.7000000000000006 y=11.731543104382977\n",
      "x=2.8000000000000007 y=13.71001019257565\n",
      "x=2.900000000000001 y=15.8936011703498\n"
     ]
    },
    {
     "data": {
      "text/plain": []
     },
     "metadata": {},
     "output_type": "display_data"
    }
   ],
   "source": [
    "table1.reverse.take(10).map(t => s\"x=${t._1} y=${t._2}\").foreach(println)"
   ]
  },
  {
   "cell_type": "code",
   "execution_count": 11,
   "metadata": {
    "collapsed": false,
    "scrolled": true
   },
   "outputs": [
    {
     "ename": "",
     "evalue": "",
     "output_type": "error",
     "traceback": [
      "\u001b[31mMain.scala:24: not found: value plot1",
      "plot1.show",
      "^\u001b[0m"
     ]
    }
   ],
   "source": [
    "plot1.show"
   ]
  },
  {
   "cell_type": "markdown",
   "metadata": {
    "collapsed": false
   },
   "source": [
    "### Beispiel 2\n",
    "\n",
    "#### Gegeben: \n",
    "\n",
    " * $y^{'}=-y$\n",
    " * $y( x_{0}) = 1 \\quad \\textrm{mit} \\quad x_{0} = 0$\n",
    " * $h = 0.1$\n",
    " \n",
    "#### Gesucht: \n",
    "\n",
    "* $y(0.4)$\n",
    "\n",
    "#### Lösung"
   ]
  },
  {
   "cell_type": "code",
   "execution_count": 12,
   "metadata": {
    "collapsed": false
   },
   "outputs": [
    {
     "data": {
      "text/plain": [
       "defined \u001b[32mfunction \u001b[36mf2\u001b[0m"
      ]
     },
     "metadata": {},
     "output_type": "display_data"
    }
   ],
   "source": [
    "def f2(x : Double, y : Double) = -y"
   ]
  },
  {
   "cell_type": "code",
   "execution_count": 13,
   "metadata": {
    "collapsed": false
   },
   "outputs": [
    {
     "data": {
      "text/plain": [
       "\u001b[36mtable2\u001b[0m: \u001b[32mList\u001b[0m[(\u001b[32mDouble\u001b[0m, \u001b[32mDouble\u001b[0m)] = \u001b[33mList\u001b[0m(\n",
       "  \u001b[33m\u001b[0m(\u001b[32m0.4\u001b[0m, \u001b[32m0.6561000000000001\u001b[0m),\n",
       "  \u001b[33m\u001b[0m(\u001b[32m0.30000000000000004\u001b[0m, \u001b[32m0.7290000000000001\u001b[0m),\n",
       "  \u001b[33m\u001b[0m(\u001b[32m0.2\u001b[0m, \u001b[32m0.81\u001b[0m),\n",
       "  \u001b[33m\u001b[0m(\u001b[32m0.1\u001b[0m, \u001b[32m0.9\u001b[0m),\n",
       "  \u001b[33m\u001b[0m(\u001b[32m0.0\u001b[0m, \u001b[32m1.0\u001b[0m)\n",
       ")"
      ]
     },
     "metadata": {},
     "output_type": "display_data"
    }
   ],
   "source": [
    "val table2 = euler(f = f2, e = 0.4, s = (0,1), h = 0.1)"
   ]
  },
  {
   "cell_type": "code",
   "execution_count": 14,
   "metadata": {
    "collapsed": false
   },
   "outputs": [
    {
     "name": "stdout",
     "output_type": "stream",
     "text": [
      "y(0.4) = 0.6561000000000001\n"
     ]
    },
    {
     "data": {
      "text/plain": []
     },
     "metadata": {},
     "output_type": "display_data"
    }
   ],
   "source": [
    "println(s\"y(0.4) = ${table2.head._2}\")"
   ]
  }
 ],
 "metadata": {
  "extensions": {
   "jupyter_dashboards": {
    "activeView": "grid_default",
    "version": 1,
    "views": {
     "grid_default": {
      "cellMargin": 10,
      "defaultCellHeight": 20,
      "maxColumns": 12,
      "name": "grid",
      "type": "grid"
     },
     "report_default": {
      "name": "report",
      "type": "report"
     }
    }
   }
  },
  "kernelspec": {
   "display_name": "Scala 2.11",
   "language": "scala211",
   "name": "scala211"
  },
  "language_info": {
   "codemirror_mode": "text/x-scala",
   "file_extension": ".scala",
   "mimetype": "text/x-scala",
   "name": "scala211",
   "pygments_lexer": "scala",
   "version": "2.11.7"
  }
 },
 "nbformat": 4,
 "nbformat_minor": 2
}
