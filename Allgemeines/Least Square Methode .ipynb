{
 "cells": [
  {
   "cell_type": "markdown",
   "metadata": {},
   "source": [
    "# Least Square\n",
    "\n",
    "Mit hilfe der Least Square Methode kann zu einzelnen Punkten eine Gerade/Kurve gefunden werden, welche möglichst genau an diesen Punkten verläuft. Es handelt sich um eine Approximation.\n",
    "\n",
    "## Verfahren (linar)\n",
    "\n",
    "Bei der Least Square Methode wird zunächst eine Gerade angelegt. Anschliesend wird das Lot von den Messpunkten zu der angelegten Gerade gefällt. Die Länge das Lots kann als &d& bezeichnet werden: ![Least Square](http://www.kgs.ku.edu/Publications/Bulletins/171/gifs/fig2.gif) Das Ziel von Least Square ist es nun die minimale Summe der Quadrate $d^{2}$ zu finden. Allgemein: $min \\sum_{i=0}^{n}d_{i}^{2}$\n",
    "\n",
    "## Verfahren Matrix\n",
    "\n",
    "Oft stößt man bei einer Matrix Gleichung auf das Problem, dass diese keine Lösung hat (der colum space wird verlassen). Beispielweise:\n",
    "\n",
    "$x_{1} + x_{2} = 1$\n",
    "\n",
    "$x_{1} + 2x_{2} = 3$\n",
    "\n",
    "$x_{1} + 3x_{2} = 3$\n",
    "\n",
    "$x_{1} + 4x_{2} = 5$\n",
    "\n",
    "\n",
    "kann auch ausgedrückt werden als $Ax = b$. Dieses Problem besitzt keine Lösung! Daher wird die best mögliche Lösung gesucht. Also eine Lösung mit der $x$ so gut, wie es auch nur irgendwie geht wird!. \n",
    "\n",
    "Hierzu definieren wir uns die Lösung $r=b-Ax$. Nun versuchen wir über die Least-Square-Methode die Länge des Verctors $r$ zu minimieren also:\n",
    "\n",
    "$min \\left \\| r \\right \\|^{2} = min (1 - x_{1} - x_{2})^{2} + (3 - x_{1} - 2x_{2})^{2} + (3 - x_{1} - 3x_{2})^{2} + (5 - x_{1}  - 4x_{2})^{2}$\n",
    "\n",
    "\n",
    "Dieses Problem lässt gemoetrisch lösen. ![Geometisch](https://www.dsprelated.com/josimages_new/sasp2/img862.png). Wir suchen also den Vektor mit welchen wir genau unter unserer gesuchten Lösung $b$ landen. Danach müssen wir nur noch ein senkrechten Vektor anlegen um auf die richtige Lösung $b$ zu stoßen. \n",
    "\n",
    "$<iframe width=\"560\" height=\"315\" src=\"https://www.youtube.com/embed/Z0wELiinNVQ\" frameborder=\"0\" allowfullscreen></iframe>§"
   ]
  }
 ],
 "metadata": {
  "kernelspec": {
   "display_name": "Scala 2.11",
   "language": "scala211",
   "name": "scala211"
  },
  "language_info": {
   "codemirror_mode": "text/x-scala",
   "file_extension": ".scala",
   "mimetype": "text/x-scala",
   "name": "scala211",
   "pygments_lexer": "scala",
   "version": "2.11.7"
  }
 },
 "nbformat": 4,
 "nbformat_minor": 1
}
