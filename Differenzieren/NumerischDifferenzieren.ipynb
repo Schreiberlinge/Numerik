{
 "cells": [
  {
   "cell_type": "markdown",
   "metadata": {},
   "source": [
    "# Numerisch Differenzieren\n",
    "\n",
    "Meist ist in der Numerik keine klare Funktion gegeben, sondern eine Messreihe von Datentupeln. Es geht vorallem darum für diese Punkte eine passende Ableitung zu finden. \n",
    "\n",
    "---\n",
    "## Klassische Ableitung alias Vorwärtsdifferenzenquotient\n",
    "\n",
    "Die Ableitung einer Funktion wurde über die h-Regel definiert. Zu einen gegebenen Punkt $x_{0}$ wird der darauf folgende Punkt $x_{0} + h$ gesucht. Die Ableitung sei dann defeniert als $f(x_{0})^{'} = \\frac{f(x_{0} + h) - f(x_{0})}{h}$. Lässt man das h nun gegen Null laufen, also unendlich klein werden, so erhält man die Ableitung an der Stelle $f(x_{0})$.\n",
    "\n",
    "![Schematische Abbildung](http://snvbrwvobs2.snv.at/matura.wiki/index.php?action=ajax&title=-&rs=SecureFileStore::getFile&f=/d/de/Difquotuebergang.gif)\n",
    "\n",
    "### Beispiel\n",
    "\n",
    "_geg_:\n",
    "\n",
    "$f(x) = x^{2}$\n",
    "\n",
    "$x_{0} = 3$\n",
    "\n",
    "_ges_:\n",
    "\n",
    "$f(x_{0})^{'}$"
   ]
  },
  {
   "cell_type": "code",
   "execution_count": 136,
   "metadata": {
    "collapsed": false
   },
   "outputs": [
    {
     "data": {
      "text/plain": [
       "defined \u001b[32mfunction \u001b[36mforwardDiff\u001b[0m"
      ]
     },
     "metadata": {},
     "output_type": "display_data"
    }
   ],
   "source": [
    "def forwardDiff(f : Double => Double, h : Double, x0 : Double) = (f(x0+h) - f(x0)) / h"
   ]
  },
  {
   "cell_type": "code",
   "execution_count": 137,
   "metadata": {
    "collapsed": false
   },
   "outputs": [
    {
     "name": "stdout",
     "output_type": "stream",
     "text": [
      "Ableitung an der Stelle 3 = 6.000100000012054\n"
     ]
    },
    {
     "data": {
      "text/plain": []
     },
     "metadata": {},
     "output_type": "display_data"
    }
   ],
   "source": [
    "println(s\"Ableitung an der Stelle 3 = ${forwardDiff((x : Double) => x * x, 0.0001, 3)}\")"
   ]
  },
  {
   "cell_type": "markdown",
   "metadata": {},
   "source": [
    "Dieses Verfahren wird auch als Vorwärtsdifferenzenquotient bezeichnet. \n",
    "\n",
    "### Probleme\n",
    "\n",
    "- Ein geeignetes h zu finden! \n",
    "    - Zu kleines h führt zur Auslöschung!\n",
    "    - Zu großes h führt zu ungenauen Ergebnissen!"
   ]
  },
  {
   "cell_type": "code",
   "execution_count": 138,
   "metadata": {
    "collapsed": false
   },
   "outputs": [
    {
     "name": "stdout",
     "output_type": "stream",
     "text": [
      "Zu kleines h :  0.0\n",
      "Zu großes h :  7.0\n"
     ]
    },
    {
     "data": {
      "text/plain": []
     },
     "metadata": {},
     "output_type": "display_data"
    }
   ],
   "source": [
    "println(s\"Zu kleines h :  ${forwardDiff((x : Double) => x * x, 0.000000000000000000000001, 3)}\")\n",
    "println(s\"Zu großes h :  ${forwardDiff((x : Double) => x * x, 1, 3)}\")"
   ]
  },
  {
   "cell_type": "markdown",
   "metadata": {},
   "source": [
    "## Rückwärtsdifferenzenquotient \n",
    "\n",
    "Gleiches wie vorher, nur mit ein Punkt vor $x_{0}$\n",
    "\n",
    "$f^{'}(x_{0}) = \\frac{f(x_{0}) - f(x_{0}-h)}{h}$\n",
    "\n",
    "## Zentraler Differentialquotienten \n",
    "\n",
    "Liegen die Stellen $x_{0} + h$ und $x_{0} - h$ symmetisch um die Stelle $x_{0}$ so bietet sich der zentrale Quotient an um die Stelle $x_{0}$ anzunähren.\n",
    "\n",
    "$f^{'}(x_{0}) = \\frac{f(x_{0} + h ) - f(x_{0} - h)}{2h}$\n",
    "\n",
    "### Beispiel\n",
    "\n",
    "_geg_:\n",
    "\n",
    "$f(x) = x^{2}$\n",
    "\n",
    "$x_{0} = 3$\n",
    "\n",
    "_ges_:\n",
    "\n",
    "$f(x_{0})^{'}$"
   ]
  },
  {
   "cell_type": "code",
   "execution_count": 139,
   "metadata": {
    "collapsed": false
   },
   "outputs": [
    {
     "data": {
      "text/plain": [
       "defined \u001b[32mfunction \u001b[36mcentralDiff\u001b[0m"
      ]
     },
     "metadata": {},
     "output_type": "display_data"
    }
   ],
   "source": [
    "def centralDiff(f : Double => Double, h : Double, x0 : Double) = (f(x0+h) - f(x0-h)) / 2*h"
   ]
  },
  {
   "cell_type": "code",
   "execution_count": 140,
   "metadata": {
    "collapsed": false
   },
   "outputs": [
    {
     "name": "stdout",
     "output_type": "stream",
     "text": [
      "Ableitung an der Stelle 3 = 6.0\n"
     ]
    },
    {
     "data": {
      "text/plain": []
     },
     "metadata": {},
     "output_type": "display_data"
    }
   ],
   "source": [
    "println(s\"Ableitung an der Stelle 3 = ${centralDiff((x : Double) => x * x, 1 , 3)}\")"
   ]
  },
  {
   "cell_type": "markdown",
   "metadata": {},
   "source": [
    "## Was tun, wenn f(x) diskret ist???\n",
    "\n",
    "1. Die Funktion wird zunächst über eine Least-Square-Approximation angenährt\n",
    "2. Berechnung der Ableitung nach einer der Differentialquotienten (falls sysmmetirsch zentraler Differentialquotienten)\n",
    "\n",
    "$\\frac{f(x_{0} + h ) - f(x_{0} - h)}{2h} \\approx \\frac{1}{h^{grad}} \\cdot w^{T} \\cdot y$\n",
    "\n",
    "Die Werte für $ w^{T}$ müssen aus folgender Tabelle entnommen werden:\n",
    "    \n",
    "| Nr. (Ableitung) | Anzahl der Stützstellen | Polynom Grad |   | $f_{k+1}$     | $f_{k}$ | $f_{k-1}$       | $f_{k-2}$ |             |\n",
    "|-----------------|-------------------------|--------------|---|---------------|---------|-----------------|-----------|-------------|\n",
    "| 1.1             |            2            |       1      |   |               |    1    |        -1       |           |  rückwärts  |\n",
    "| 1.10            |            2            |       1      |   |       1       |    -1   |                 |           |   vorwärts  |\n",
    "| 1.11            |            3            |       2      |   | $\\frac{1}{2}$ |    0    | $- \\frac{1}{2}$ |           |  symetrisch |\n",
    "|                 |                         |              |   |               |         |                 |           |             |\n",
    "| 2.1             |            3            |       2      |   |               |    1    |        -2       |     1     |  rückwärts  |\n",
    "| 2.11            |            3            |       2      |   |       1       |    -2   |        1        |           | symmetrisch |\n",
    "\n"
   ]
  },
  {
   "cell_type": "code",
   "execution_count": 141,
   "metadata": {
    "collapsed": false
   },
   "outputs": [
    {
     "data": {
      "text/plain": [
       "defined \u001b[32mfunction \u001b[36mnumericDiffFirstOrder\u001b[0m"
      ]
     },
     "metadata": {},
     "output_type": "display_data"
    }
   ],
   "source": [
    "// Siehe Tabelle 1.11\n",
    "def numericDiffFirstOrder(f: Double => Double, x0: Double, h : Double = 0.5) = {\n",
    "\n",
    "  //y+1\n",
    "  val yf = f(x0+h)\n",
    "  //y\n",
    "  val y = f(x0)\n",
    "  // y-1\n",
    "  val yb = f(x0-h)\n",
    "\n",
    "  \n",
    "  (1 / h) * (0.5*yf + -0.5*yb)\n",
    "\n",
    "}"
   ]
  },
  {
   "cell_type": "code",
   "execution_count": 142,
   "metadata": {
    "collapsed": false
   },
   "outputs": [
    {
     "name": "stdout",
     "output_type": "stream",
     "text": [
      "Ableitung an der Stelle 3 = 6.0\n"
     ]
    },
    {
     "data": {
      "text/plain": []
     },
     "metadata": {},
     "output_type": "display_data"
    }
   ],
   "source": [
    "println(s\"Ableitung an der Stelle 3 = ${numericDiffFirstOrder((x : Double) => x * x, 3,1)}\")"
   ]
  },
  {
   "cell_type": "markdown",
   "metadata": {},
   "source": [
    "### Wichtige Vorraussetzungen\n",
    "\n",
    "- $\\sum w^{T} = 0$\n",
    "- Anzahl der Stützstellen ist grad der Funktion + 1 (Punkt Selbst)\n",
    "- Stützpunkte sind äquidistant (gleicher Abstand)\n",
    "\n",
    "### Beispiel Klausur Frage\n",
    "\n",
    "1. Wie viele Stützpunkte braucht man um die partielle Ableitung einer bivarianten Funktion zu bestimmen. \n",
    "   \n",
    "   ???\n",
    "\n",
    "2. Wie viele Stützpunkte braucht man für die 1. bzw. 2. Ableitung mindestens?\n",
    "    \n",
    "    1. 1-Ableitung: Mindestens zwei, da eine Approximation über eine Gerade ausreicht. \n",
    "    2. 2-Ableitung: Mindestens drei, da die zweite Ableitung erst bei einer Approximation durch eine Parabel sinn macht.\n",
    "    "
   ]
  }
 ],
 "metadata": {
  "kernelspec": {
   "display_name": "Scala 2.11",
   "language": "scala211",
   "name": "scala211"
  },
  "language_info": {
   "codemirror_mode": "text/x-scala",
   "file_extension": ".scala",
   "mimetype": "text/x-scala",
   "name": "scala211",
   "pygments_lexer": "scala",
   "version": "2.11.7"
  }
 },
 "nbformat": 4,
 "nbformat_minor": 1
}
